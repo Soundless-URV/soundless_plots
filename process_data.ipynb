{
 "cells": [
  {
   "cell_type": "markdown",
   "metadata": {
    "vscode": {
     "languageId": "plaintext"
    }
   },
   "source": [
    "# **Raw Data Calculations**\n",
    "### **Notebook Objective:** \n",
    "This notebook performs the necessary calculations on raw data to obtain metrics such as the number of awakenings, and the average decibel and heart rate levels during the noisiest and quietest nights, among others.\n",
    "\n",
    "All these data are read and processed in this notebook and finally saved to a file named *data.pkl*. This file contains the final data, which will later be used in another notebook (*plot_data.ipynb*) to generate the corresponding plots."
   ]
  },
  {
   "cell_type": "code",
   "execution_count": null,
   "metadata": {},
   "outputs": [],
   "source": [
    "import pandas as pd\n",
    "import os\n",
    "import pickle"
   ]
  },
  {
   "cell_type": "code",
   "execution_count": null,
   "metadata": {},
   "outputs": [],
   "source": [
    "def remove_initial_neg(df: pd.DataFrame) -> pd.DataFrame:\n",
    "    # Find the first index where sleepStage is not -1\n",
    "    df.reset_index(drop=True, inplace=True)\n",
    "    \n",
    "    first_non_neg_index = (df['sleepStage'] != -1).idxmax()\n",
    "\n",
    "    # Return the dataframe starting from that index\n",
    "    return df[first_non_neg_index:]"
   ]
  },
  {
   "cell_type": "code",
   "execution_count": null,
   "metadata": {},
   "outputs": [],
   "source": [
    "# Read the files and add the city name to each row - All files\n",
    "def read_data(files_name: list[str]) -> pd.DataFrame:\n",
    "    all_data_not_filtered = pd.concat([pd.read_csv(f\"./soundless/data/{file_name}\").assign(city=file_name.split('_')[0] + '_' + file_name.split('_')[1].replace('.csv', '')) for file_name in files_name if file_name.startswith('Tarragona_province')], ignore_index=True)\n",
    "    return all_data_not_filtered"
   ]
  },
  {
   "cell_type": "markdown",
   "metadata": {},
   "source": [
    "## Get and process data"
   ]
  },
  {
   "cell_type": "code",
   "execution_count": null,
   "metadata": {},
   "outputs": [],
   "source": [
    "# Read all files in ./tmp/ directory, and put them in a single dataFrame\n",
    "df = read_data(os.listdir(\"./soundless/data/\"))\n",
    "df.shape"
   ]
  },
  {
   "cell_type": "code",
   "execution_count": null,
   "metadata": {},
   "outputs": [],
   "source": [
    "## Filtering\n",
    "# Delete duplicates\n",
    "df = df.drop_duplicates()\n",
    "\n",
    "# Delete uuids without heartRate\n",
    "df = df[df['heartRate'] != -1]\n",
    "\n",
    "# Delete uuids with low number of rows\n",
    "uuid_counts = df['uuid'].value_counts()\n",
    "to_keep = uuid_counts[uuid_counts >= 100].index\n",
    "df = df[df['uuid'].isin(to_keep)]\n",
    "\n",
    "# Delete uuids that have a value lower or equal than 30 as the average value of the dB column\n",
    "uuid_group = df.groupby('uuid')['dB'].agg(['mean'])\n",
    "uuid_group = uuid_group[uuid_group['mean'] > 30]\n",
    "df = df[df['uuid'].isin(uuid_group.index)]\n",
    "\n",
    "df_filtered = pd.DataFrame(\n",
    "        columns=['uuid', 'timestamp', 'dB', 'heartRate', 'sleepStage'])\n",
    "\n",
    "# Use the remove_initial_neg funtion for every uuid\n",
    "df.groupby('uuid').apply(remove_initial_neg)\n",
    "\n",
    "print(df.shape)"
   ]
  },
  {
   "cell_type": "code",
   "execution_count": null,
   "metadata": {},
   "outputs": [],
   "source": [
    "## Get all uuids of the user history\n",
    "# Create an empty dictionary to store the uuids lists\n",
    "history_uuids = {}\n",
    "\n",
    "# Loop through each file in the soundless/history folder\n",
    "for filename in os.listdir('./soundless/history/'):\n",
    "    # Read the file\n",
    "    with open(os.path.join('./soundless/history', filename), 'r') as f:\n",
    "        data = f.read()\n",
    "    # Check if the file is empty\n",
    "    if data.strip():\n",
    "        # Split the string by commas to create a list of uuids\n",
    "        uuids = data.split(',')\n",
    "        # Add the uuids to the dictionary\n",
    "        history_uuids[filename] = uuids\n",
    "\n",
    "# history_uuids"
   ]
  },
  {
   "cell_type": "code",
   "execution_count": null,
   "metadata": {},
   "outputs": [],
   "source": [
    "## Add 'user' column to df\n",
    "# Invert the history_uuids dictionary to easily map uuids to user keys\n",
    "uuid_to_user = {uuid: user for user, uuids in history_uuids.items() for uuid in uuids}\n",
    "\n",
    "# Create a new column 'user' in df by mapping the 'uuid' column using the uuid_to_user dictionary\n",
    "df['user'] = df['uuid'].map(uuid_to_user)\n",
    "\n",
    "# Now df has a new column 'user' with the corresponding user key from history_uuids\n",
    "df"
   ]
  },
  {
   "cell_type": "markdown",
   "metadata": {},
   "source": [
    "#"
   ]
  },
  {
   "cell_type": "markdown",
   "metadata": {},
   "source": [
    "# Auxiliar functions"
   ]
  },
  {
   "cell_type": "code",
   "execution_count": null,
   "metadata": {},
   "outputs": [],
   "source": [
    "## Sleep stages\n",
    "# 0 / -1 -> Awake\n",
    "# 1 -> Light sleep\n",
    "# 2 -> Deep sleep\n",
    "# 3 -> REM sleep\n",
    "\n",
    "def incidents_sleep(sleepStage, timestamps):\n",
    "    data_list = []\n",
    "    position = 0\n",
    "    last_deep_sleep_position = -1\n",
    "    \n",
    "    # Get the moment (timestamp) that the user goes from deep sleep to awake in 10 seconds\n",
    "    for stage, timestamp in zip(sleepStage, timestamps):\n",
    "        # If the user is in deep sleep or rem phase\n",
    "        if stage >= 2:\n",
    "            last_deep_sleep_position = position\n",
    "            \n",
    "        # If the user is awake\n",
    "        if stage <= 0 and last_deep_sleep_position != -1 and position <= last_deep_sleep_position + 1:\n",
    "            data_list.append(timestamp)\n",
    "        \n",
    "        position += 1\n",
    "\n",
    "    return data_list"
   ]
  },
  {
   "cell_type": "markdown",
   "metadata": {},
   "source": [
    "#"
   ]
  },
  {
   "cell_type": "markdown",
   "metadata": {},
   "source": [
    "# Final Nights with Illegal levels"
   ]
  },
  {
   "cell_type": "code",
   "execution_count": null,
   "metadata": {},
   "outputs": [],
   "source": [
    "# Generate the plot\n",
    "# Get the number of nights that the sound level was higher than 40 dB\n",
    "sleeping_df = df[df['sleepStage'] != -1]\n",
    "max_db_per_uuid = sleeping_df.groupby('uuid')['dB'].max()\n",
    "\n",
    "# Count nights above/below 40dB\n",
    "nights_higher_40 = (max_db_per_uuid > 40).sum()\n",
    "nights_lower_40 = (max_db_per_uuid <= 40).sum()"
   ]
  },
  {
   "cell_type": "markdown",
   "metadata": {},
   "source": [
    "#"
   ]
  },
  {
   "cell_type": "markdown",
   "metadata": {},
   "source": [
    "## Plot and extract the user data -- Final mean dB"
   ]
  },
  {
   "cell_type": "code",
   "execution_count": null,
   "metadata": {},
   "outputs": [],
   "source": [
    "# PLOT MEAN THE LOUDEST HOURS OF ALL NIGHTS\n",
    "all_dB_df = df.copy()\n",
    "\n",
    "# Round all the timestamps to 1-minute intervals\n",
    "all_dB_df['timestamp'] = pd.to_datetime(all_dB_df['timestamp'], unit='ms').dt.round('1min')\n",
    "\n",
    "# Delete the day from the timestamp\n",
    "all_dB_df['timestamp'] = all_dB_df['timestamp'].dt.strftime('%H:%M:%S')\n",
    "all_dB_df = all_dB_df.sort_values(by=['timestamp'])\n",
    "\n",
    "# Get data from 00:00:00 to 08:00:00\n",
    "all_dB_df = all_dB_df[(all_dB_df['timestamp'] >= '00:00:00') & (all_dB_df['timestamp'] <= '08:00:00')]\n",
    "\n",
    "# Delete uuids without sleepStage\n",
    "all_dB_df_sleeping = all_dB_df[all_dB_df['sleepStage'] != -1]\n",
    "\n",
    "# Group by timestamp and calculate the mean of the dB values on each timestamp\n",
    "mean = all_dB_df.groupby('timestamp')['dB'].mean()\n",
    "mean_sleeping = all_dB_df_sleeping.groupby('timestamp')['dB'].mean()"
   ]
  },
  {
   "cell_type": "markdown",
   "metadata": {},
   "source": [
    "## Bar chart"
   ]
  },
  {
   "cell_type": "code",
   "execution_count": null,
   "metadata": {},
   "outputs": [],
   "source": [
    "# PLOT MEAN THE LOUDEST HOURS OF ALL NIGHTS\n",
    "all_dB_df = df.copy()\n",
    "\n",
    "# Convert the timestamp to datetime and extract hour only\n",
    "all_dB_df['timestamp'] = pd.to_datetime(all_dB_df['timestamp'], unit='ms')\n",
    "all_dB_df['hour'] = all_dB_df['timestamp'].dt.strftime('%H:00')\n",
    "\n",
    "# Get data from 00:00:00 to 08:00:00\n",
    "all_dB_df = all_dB_df[(all_dB_df['timestamp'].dt.hour >= 0) & (all_dB_df['timestamp'].dt.hour <= 8)]\n",
    "\n",
    "# Delete uuids without sleepStage\n",
    "all_dB_df_sleeping = all_dB_df[all_dB_df['sleepStage'] != -1]\n",
    "\n",
    "# Group by hour and calculate mean\n",
    "hourly_mean = all_dB_df.groupby('hour')['dB'].mean()\n",
    "hourly_mean_sleeping = all_dB_df_sleeping.groupby('hour')['dB'].mean()"
   ]
  },
  {
   "cell_type": "markdown",
   "metadata": {},
   "source": [
    "#"
   ]
  },
  {
   "cell_type": "markdown",
   "metadata": {},
   "source": [
    "# Extract the sleep incidents from the dataset --> Final Awakenings"
   ]
  },
  {
   "cell_type": "code",
   "execution_count": null,
   "metadata": {},
   "outputs": [],
   "source": [
    "## IMPORTANT: This values represent the number of recordings used to extract the sleep incidents\n",
    "number_of_recordings = 4"
   ]
  },
  {
   "cell_type": "code",
   "execution_count": null,
   "metadata": {},
   "outputs": [],
   "source": [
    "max_dB_list = []\n",
    "min_dB_list = []\n",
    "\n",
    "## Plot and extract all the recordings of all the users\n",
    "for user in history_uuids:\n",
    "    # Pre-filter dataframe for the current user's UUIDs\n",
    "    user_data = df[df.uuid.isin(history_uuids[user])].copy()\n",
    "    \n",
    "    # Skip if no data\n",
    "    if user_data.empty:\n",
    "        continue\n",
    "    \n",
    "    # Vectorized operations\n",
    "    user_data['timestamp'] = pd.to_datetime(user_data['timestamp'], unit='ms')\n",
    "    user_data['time_str'] = user_data['timestamp'].dt.strftime('%H:%M:%S')\n",
    "    \n",
    "    # Filter data in one go\n",
    "    mask = (user_data['time_str'] <= '08:00:00') & user_data['dB'].notna()\n",
    "    user_data = user_data[mask]\n",
    "    \n",
    "    if user_data.empty:\n",
    "        continue\n",
    "    \n",
    "    # Calculate means for all UUIDs at once\n",
    "    mean_dB = user_data.groupby('uuid')['dB'].mean()\n",
    "    \n",
    "    if mean_dB.empty:\n",
    "        continue\n",
    "    \n",
    "    # Get top 2 and bottom 2 UUIDs in one sort\n",
    "    sorted_uuids = mean_dB.sort_values(ascending=False)\n",
    "    max_dB_list.extend(sorted_uuids.head(number_of_recordings).index)\n",
    "    min_dB_list.extend(sorted_uuids.tail(number_of_recordings).index)"
   ]
  },
  {
   "cell_type": "code",
   "execution_count": null,
   "metadata": {},
   "outputs": [],
   "source": [
    "## Get the incidents\n",
    "# Dictionary with uuids and their incidents\n",
    "max_sleepStage_incidents = {}\n",
    "min_sleepStage_incidents = {}\n",
    "\n",
    "# For every uuid\n",
    "for uuid in max_dB_list:\n",
    "    # Data of this uuid\n",
    "    data_uuid = df[df.uuid == uuid]\n",
    "    timestamps_uuid = data_uuid['timestamp'].values\n",
    "    sleepStage = data_uuid['sleepStage'].values\n",
    "\n",
    "    # Run function to detect incidents in sleepStage\n",
    "    max_sleepStage_incidents[uuid] = incidents_sleep(sleepStage, timestamps_uuid)\n",
    "\n",
    "# For every uuid\n",
    "for uuid in min_dB_list:\n",
    "    # Data of this uuid\n",
    "    data_uuid = df[df.uuid == uuid]\n",
    "    timestamps_uuid = data_uuid['timestamp'].values\n",
    "    sleepStage = data_uuid['sleepStage'].values\n",
    "\n",
    "    # Run function to detect incidents in sleepStage\n",
    "    min_sleepStage_incidents[uuid] = incidents_sleep(sleepStage, timestamps_uuid)"
   ]
  },
  {
   "cell_type": "code",
   "execution_count": null,
   "metadata": {},
   "outputs": [],
   "source": [
    "# Extract the hour of the day in 24-hour format\n",
    "max_sleepStage_incidents = {k: [pd.to_datetime(i, unit='ms') for i in v] for k, v in max_sleepStage_incidents.items()}\n",
    "max_sleepStage_incidents = {k: [i.strftime('%H') for i in v] for k, v in max_sleepStage_incidents.items()}\n",
    "\n",
    "min_sleepStage_incidents = {k: [pd.to_datetime(i, unit='ms') for i in v] for k, v in min_sleepStage_incidents.items()}\n",
    "min_sleepStage_incidents = {k: [i.strftime('%H') for i in v] for k, v in min_sleepStage_incidents.items()}"
   ]
  },
  {
   "cell_type": "markdown",
   "metadata": {},
   "source": [
    "#"
   ]
  },
  {
   "cell_type": "markdown",
   "metadata": {},
   "source": [
    "# Generate the plots -- Final noisy quiet db and hr levels"
   ]
  },
  {
   "cell_type": "code",
   "execution_count": null,
   "metadata": {},
   "outputs": [],
   "source": [
    "# Create a Dataframe with all the db values of each uuid of all the users\n",
    "max_dB_df = pd.DataFrame(columns=['uuid', 'timestamp', 'dB', 'heartRate'])\n",
    "min_dB_df = pd.DataFrame(columns=['uuid', 'timestamp', 'dB', 'heartRate'])\n",
    "\n",
    "\n",
    "for uuid in max_dB_list:\n",
    "    data = df[df.uuid == uuid]\n",
    "\n",
    "    # Check if the data is empty\n",
    "    if data.shape[0] == 0:\n",
    "        continue\n",
    "\n",
    "    # Sort by timestamp\n",
    "    data = data.sort_values(by=['timestamp'])\n",
    "\n",
    "    # Convert the timestamp to datetime\n",
    "    data['timestamp'] = pd.to_datetime(data['timestamp'], unit='ms')\n",
    "\n",
    "    # Delete timestamsp that are bigger than 08:00:00\n",
    "    data = data[data.timestamp.dt.strftime('%H:%M:%S') <= '08:00:00']\n",
    "    \n",
    "    # Add the db values to the max_dB_df\n",
    "    # uuid | timestamp | dB\n",
    "    max_dB_df = pd.concat([max_dB_df, data[['uuid', 'timestamp', 'dB', 'heartRate']]])\n",
    "\n",
    "\n",
    "for uuid in min_dB_list:\n",
    "    data = df[df.uuid == uuid]\n",
    "\n",
    "    # Check if the data is empty\n",
    "    if data.shape[0] == 0:\n",
    "        continue\n",
    "\n",
    "    # Sort by timestamp\n",
    "    data = data.sort_values(by=['timestamp'])\n",
    "\n",
    "    # Convert the timestamp to datetime\n",
    "    data['timestamp'] = pd.to_datetime(data['timestamp'], unit='ms')\n",
    "\n",
    "    # Delete timestamsp that are bigger than 08:00:00\n",
    "    data = data[data.timestamp.dt.strftime('%H:%M:%S') <= '08:00:00']\n",
    "\n",
    "    # Add the db values to the min_dB_df\n",
    "    # uuid | timestamp | dB\n",
    "    min_dB_df = pd.concat([min_dB_df, data[['uuid', 'timestamp', 'dB', 'heartRate']]])"
   ]
  },
  {
   "cell_type": "code",
   "execution_count": null,
   "metadata": {},
   "outputs": [],
   "source": [
    "# Round all the timestamps to 1-minute intervals\n",
    "max_dB_df['timestamp'] = max_dB_df['timestamp'].dt.round('1min')\n",
    "min_dB_df['timestamp'] = min_dB_df['timestamp'].dt.round('1min')\n",
    "\n",
    "# Delete the day from the timestamp\n",
    "max_dB_df['timestamp'] = max_dB_df['timestamp'].dt.strftime('%H:%M:%S')\n",
    "min_dB_df['timestamp'] = min_dB_df['timestamp'].dt.strftime('%H:%M:%S')\n",
    "\n",
    "# Group by timestamp and calculate the mean of the dB values on each timestamp\n",
    "mean_max_dB = max_dB_df.groupby('timestamp')['dB'].mean()\n",
    "mean_dB = min_dB_df.groupby('timestamp')['dB'].mean()\n",
    "\n",
    "# Group by timestamp and calculate the mean of the hR values on each timestamp\n",
    "mean_max_hR = max_dB_df.groupby('timestamp')['heartRate'].mean()\n",
    "mean_hR = min_dB_df.groupby('timestamp')['heartRate'].mean()"
   ]
  },
  {
   "cell_type": "markdown",
   "metadata": {},
   "source": [
    "#"
   ]
  },
  {
   "cell_type": "markdown",
   "metadata": {},
   "source": [
    "# Save the data to plot it"
   ]
  },
  {
   "cell_type": "code",
   "execution_count": null,
   "metadata": {},
   "outputs": [],
   "source": [
    "# Combine them into a dictionary for easy storage\n",
    "data = {\n",
    "    # Nights with illegal levels of noise\n",
    "    \"nights_higher_40\": nights_higher_40,\n",
    "    \"nights_lower_40\": nights_lower_40,\n",
    "    \n",
    "    # Mean dB values\n",
    "    \"mean\": mean,\n",
    "    \"mean_sleeping\": mean_sleeping,\n",
    "    \"hourly_mean\": hourly_mean,\n",
    "    \"hourly_mean_sleeping\": hourly_mean_sleeping,\n",
    "    \n",
    "    # Number of awakenings\n",
    "    \"number_of_recordings\": number_of_recordings,\n",
    "    \"max_sleepStage_incidents\": max_sleepStage_incidents,\n",
    "    \"min_sleepStage_incidents\": min_sleepStage_incidents,\n",
    "    \n",
    "    # Noisy quiet dB hR levels\n",
    "    \"mean_max_dB\": mean_max_dB,\n",
    "    \"mean_dB\": mean_dB,\n",
    "    \"mean_max_hR\": mean_max_hR,\n",
    "    \"mean_hR\": mean_hR,\n",
    "}\n",
    "\n",
    "# Save the variables to a file named 'data.pkl'\n",
    "with open('data.pkl', 'wb') as file:\n",
    "    pickle.dump(data, file)"
   ]
  },
  {
   "cell_type": "code",
   "execution_count": null,
   "metadata": {},
   "outputs": [],
   "source": []
  }
 ],
 "metadata": {
  "kernelspec": {
   "display_name": "base",
   "language": "python",
   "name": "python3"
  },
  "language_info": {
   "codemirror_mode": {
    "name": "ipython",
    "version": 3
   },
   "file_extension": ".py",
   "mimetype": "text/x-python",
   "name": "python",
   "nbconvert_exporter": "python",
   "pygments_lexer": "ipython3",
   "version": "3.12.2"
  }
 },
 "nbformat": 4,
 "nbformat_minor": 2
}
