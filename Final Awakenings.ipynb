{
 "cells": [
  {
   "cell_type": "code",
   "execution_count": 1,
   "metadata": {},
   "outputs": [],
   "source": [
    "import pandas as pd\n",
    "import os\n",
    "import matplotlib.pyplot as plt\n",
    "import numpy as np"
   ]
  },
  {
   "cell_type": "code",
   "execution_count": 2,
   "metadata": {},
   "outputs": [],
   "source": [
    "def remove_initial_neg(df: pd.DataFrame) -> pd.DataFrame:\n",
    "    # Find the first index where sleepStage is not -1\n",
    "    df.reset_index(drop=True, inplace=True)\n",
    "    \n",
    "    first_non_neg_index = (df['sleepStage'] != -1).idxmax()\n",
    "\n",
    "    # Return the dataframe starting from that index\n",
    "    return df[first_non_neg_index:]"
   ]
  },
  {
   "cell_type": "code",
   "execution_count": 3,
   "metadata": {},
   "outputs": [],
   "source": [
    "# Read the files and add the city name to each row - All files\n",
    "def read_data(files_name: list[str]) -> pd.DataFrame:\n",
    "    all_data_not_filtered = pd.concat([pd.read_csv(f\"./soundless-data/{file_name}\").assign(city=file_name.split('_')[0] + '_' + file_name.split('_')[1].replace('.csv', '')) for file_name in files_name if file_name.startswith('Tarragona_province')], ignore_index=True)\n",
    "    return all_data_not_filtered"
   ]
  },
  {
   "cell_type": "markdown",
   "metadata": {},
   "source": [
    "## Get and process data"
   ]
  },
  {
   "cell_type": "code",
   "execution_count": null,
   "metadata": {},
   "outputs": [],
   "source": [
    "# Read all files in ./tmp/ directory, and put them in a single dataFrame\n",
    "df = read_data(os.listdir(\"./soundless-data/\"))\n",
    "df.shape"
   ]
  },
  {
   "cell_type": "code",
   "execution_count": null,
   "metadata": {},
   "outputs": [],
   "source": [
    "## Filtering\n",
    "# Delete duplicates\n",
    "df = df.drop_duplicates()\n",
    "\n",
    "# Delete uuids without heartRate\n",
    "df = df[df['heartRate'] != -1]\n",
    "\n",
    "# Delete uuids with low number of rows\n",
    "uuid_counts = df['uuid'].value_counts()\n",
    "to_keep = uuid_counts[uuid_counts >= 100].index\n",
    "df = df[df['uuid'].isin(to_keep)]\n",
    "\n",
    "# Delete uuids that have a value lower or equal than 30 as the average value of the dB column\n",
    "uuid_group = df.groupby('uuid')['dB'].agg(['mean'])\n",
    "uuid_group = uuid_group[uuid_group['mean'] > 30]\n",
    "df = df[df['uuid'].isin(uuid_group.index)]\n",
    "\n",
    "df_filtered = pd.DataFrame(\n",
    "        columns=['uuid', 'timestamp', 'dB', 'heartRate', 'sleepStage'])\n",
    "\n",
    "# Use the remove_initial_neg funtion for every uuid\n",
    "df.groupby('uuid').apply(remove_initial_neg)\n",
    "\n",
    "print(df.shape)"
   ]
  },
  {
   "cell_type": "code",
   "execution_count": 6,
   "metadata": {},
   "outputs": [],
   "source": [
    "## Get all uuids of the user history\n",
    "# Create an empty dictionary to store the uuids lists\n",
    "history_uuids = {}\n",
    "\n",
    "# Loop through each file in the soundless-history folder\n",
    "for filename in os.listdir('./soundless-history'):\n",
    "    # Read the file\n",
    "    with open(os.path.join('./soundless-history', filename), 'r') as f:\n",
    "        data = f.read()\n",
    "    # Check if the file is empty\n",
    "    if data.strip():\n",
    "        # Split the string by commas to create a list of uuids\n",
    "        uuids = data.split(',')\n",
    "        # Add the uuids to the dictionary\n",
    "        history_uuids[filename] = uuids\n",
    "\n",
    "# history_uuids"
   ]
  },
  {
   "cell_type": "code",
   "execution_count": null,
   "metadata": {},
   "outputs": [],
   "source": [
    "## Add 'user' column to df\n",
    "# Invert the history_uuids dictionary to easily map uuids to user keys\n",
    "uuid_to_user = {uuid: user for user, uuids in history_uuids.items() for uuid in uuids}\n",
    "\n",
    "# Create a new column 'user' in df by mapping the 'uuid' column using the uuid_to_user dictionary\n",
    "df['user'] = df['uuid'].map(uuid_to_user)\n",
    "\n",
    "# Now df has a new column 'user' with the corresponding user key from history_uuids\n",
    "df"
   ]
  },
  {
   "cell_type": "markdown",
   "metadata": {},
   "source": [
    "#"
   ]
  },
  {
   "cell_type": "markdown",
   "metadata": {},
   "source": [
    "# Extract the sleep incidents from the dataset"
   ]
  },
  {
   "cell_type": "code",
   "execution_count": 8,
   "metadata": {},
   "outputs": [],
   "source": [
    "## IMPORTANT: This values represent the number of recordings used to extract the sleep incidents\n",
    "number_of_recordings = 7"
   ]
  },
  {
   "cell_type": "code",
   "execution_count": 9,
   "metadata": {},
   "outputs": [],
   "source": [
    "max_dB_list = []\n",
    "min_dB_list = []\n",
    "\n",
    "## Plot and extract all the recordings of all the users\n",
    "for user in history_uuids:\n",
    "    # Pre-filter dataframe for the current user's UUIDs\n",
    "    user_data = df[df.uuid.isin(history_uuids[user])].copy()\n",
    "    \n",
    "    # Skip if no data\n",
    "    if user_data.empty:\n",
    "        continue\n",
    "    \n",
    "    # Vectorized operations\n",
    "    user_data['timestamp'] = pd.to_datetime(user_data['timestamp'], unit='ms')\n",
    "    user_data['time_str'] = user_data['timestamp'].dt.strftime('%H:%M:%S')\n",
    "    \n",
    "    # Filter data in one go\n",
    "    mask = (user_data['time_str'] <= '08:00:00') & user_data['dB'].notna()\n",
    "    user_data = user_data[mask]\n",
    "    \n",
    "    if user_data.empty:\n",
    "        continue\n",
    "    \n",
    "    # Calculate means for all UUIDs at once\n",
    "    mean_dB = user_data.groupby('uuid')['dB'].mean()\n",
    "    \n",
    "    if mean_dB.empty:\n",
    "        continue\n",
    "    \n",
    "    # Get top 2 and bottom 2 UUIDs in one sort\n",
    "    sorted_uuids = mean_dB.sort_values(ascending=False)\n",
    "    max_dB_list.extend(sorted_uuids.head(number_of_recordings).index)\n",
    "    min_dB_list.extend(sorted_uuids.tail(number_of_recordings).index)"
   ]
  },
  {
   "cell_type": "code",
   "execution_count": 10,
   "metadata": {},
   "outputs": [],
   "source": [
    "def incidents_sleep(sleepStage: list[int]) -> list[int]:\n",
    "    data_list = []\n",
    "    position = 0\n",
    "    last_deep_sleep_position = -1\n",
    "\n",
    "    for row in sleepStage:\n",
    "        if row >= 2:\n",
    "            data_list.append(0)\n",
    "            last_deep_sleep_position = position\n",
    "        elif row <= 0 and last_deep_sleep_position != -1 and position <= last_deep_sleep_position + 4:\n",
    "            data_list.append(1)\n",
    "        else:\n",
    "            data_list.append(0)\n",
    "        \n",
    "        position += 1\n",
    "\n",
    "    return data_list"
   ]
  },
  {
   "cell_type": "code",
   "execution_count": 11,
   "metadata": {},
   "outputs": [],
   "source": [
    "# Get the timestamps of the signal changes\n",
    "def get_timestamps_incident(signals: list[int], timestamps: list[int]) -> list[int]:\n",
    "    # Initialize a list to store the timestamps of the signal changes\n",
    "    change_timestamps = []\n",
    "\n",
    "    # Loop through the signals\n",
    "    for i in range(1, len(signals)):\n",
    "        # If the signal is 1 and the previous signal was 0, append the timestamp to the list\n",
    "        if signals[i] == 1 and signals[i-1] == 0:\n",
    "            change_timestamps.append(int(timestamps[i]))\n",
    "            \n",
    "    # Return the list of timestamps\n",
    "    return change_timestamps"
   ]
  },
  {
   "cell_type": "code",
   "execution_count": 12,
   "metadata": {},
   "outputs": [],
   "source": [
    "## Get the incidents\n",
    "# Dictionary with uuids and their incidents\n",
    "max_sleepStage_incidents = {}\n",
    "min_sleepStage_incidents = {}\n",
    "\n",
    "# For every uuid\n",
    "for uuid in max_dB_list:\n",
    "    # Data of this uuid\n",
    "    data_uuid = df[df.uuid == uuid]\n",
    "    timestamps_uuid = data_uuid['timestamp'].values\n",
    "    y_sleepStage = data_uuid['sleepStage'].values\n",
    "\n",
    "    # Run function to detect incidents in sleepStage\n",
    "    result = incidents_sleep(y_sleepStage)\n",
    "    max_sleepStage_incidents[uuid] = get_timestamps_incident(result, timestamps_uuid)\n",
    "\n",
    "# For every uuid\n",
    "for uuid in min_dB_list:\n",
    "    # Data of this uuid\n",
    "    data_uuid = df[df.uuid == uuid]\n",
    "    timestamps_uuid = data_uuid['timestamp'].values\n",
    "    y_sleepStage = data_uuid['sleepStage'].values\n",
    "\n",
    "    # Run function to detect incidents in sleepStage\n",
    "    result = incidents_sleep(y_sleepStage)\n",
    "    min_sleepStage_incidents[uuid] = get_timestamps_incident(result, timestamps_uuid)"
   ]
  },
  {
   "cell_type": "code",
   "execution_count": null,
   "metadata": {},
   "outputs": [],
   "source": [
    "# Check of incidents on heartRate_db and sleepStage_db\n",
    "print(\"Number of uuids in max_sleepStage_db incidents: \", len(max_sleepStage_incidents.keys()))\n",
    "print(\"Number of max_sleepStage_db incidents: \", sum(len(v) for v in max_sleepStage_incidents.values()))\n",
    "print(\"\")\n",
    "\n",
    "print(\"Number of uuids in min_sleepStage_db incidents: \", len(min_sleepStage_incidents.keys()))\n",
    "print(\"Number of min_sleepStage_db incidents: \", sum(len(v) for v in min_sleepStage_incidents.values()))"
   ]
  },
  {
   "cell_type": "code",
   "execution_count": 14,
   "metadata": {},
   "outputs": [],
   "source": [
    "# Extract the hour of the day in 24-hour format\n",
    "max_sleepStage_incidents_datetime = {k: [pd.to_datetime(i, unit='ms') for i in v] for k, v in max_sleepStage_incidents.items()}\n",
    "max_sleepStage_incidents_time = {k: [i.strftime('%H') for i in v] for k, v in max_sleepStage_incidents_datetime.items()}\n",
    "\n",
    "min_sleepStage_incidents_datetime = {k: [pd.to_datetime(i, unit='ms') for i in v] for k, v in min_sleepStage_incidents.items()}\n",
    "min_sleepStage_incidents_time = {k: [i.strftime('%H') for i in v] for k, v in min_sleepStage_incidents_datetime.items()}"
   ]
  },
  {
   "cell_type": "markdown",
   "metadata": {},
   "source": [
    "#"
   ]
  },
  {
   "cell_type": "markdown",
   "metadata": {},
   "source": [
    "# Generate the plots"
   ]
  },
  {
   "cell_type": "code",
   "execution_count": null,
   "metadata": {},
   "outputs": [],
   "source": [
    "# Plot the aggregated number of incidents per hour\n",
    "plt.figure(figsize=(15, 7))\n",
    "\n",
    "# Aggregate all hours\n",
    "all_hours = []\n",
    "for uuid in max_sleepStage_incidents_time:\n",
    "    all_hours.extend(max_sleepStage_incidents_time[uuid])\n",
    "    \n",
    "all_hours = [int(hour) for hour in all_hours]\n",
    "\n",
    "# Create ordered hour list (22:00 to 09:00 next day)\n",
    "hour_order = list(range(23, 24)) + list(range(0, 9))\n",
    "\n",
    "# Count occurrences for each hour in the new order\n",
    "counts = [all_hours.count(h) for h in hour_order]\n",
    "\n",
    "# Plot the histogram with reordered hours\n",
    "bars = plt.bar(range(10), counts)\n",
    "\n",
    "# Add labels and title\n",
    "plt.xlabel('Hour')\n",
    "plt.ylabel('Number of awakenings')\n",
    "plt.title(f'Number of Awakenings per Hour - {sum(counts)} total - {number_of_recordings} noisy nights')\n",
    "\n",
    "# Set x-ticks to show hours in correct order\n",
    "plt.xticks(range(10), [f\"{h:02d}:00\" for h in hour_order])\n",
    "# plt.ylim(0, 25) # 25 / 35\n",
    "\n",
    "print(\"Number of awakenings total: \", sum(counts))\n",
    "\n",
    "plt.show()"
   ]
  },
  {
   "cell_type": "code",
   "execution_count": null,
   "metadata": {},
   "outputs": [],
   "source": [
    "# Plot the aggregated number of incidents per hour\n",
    "plt.figure(figsize=(15, 7))\n",
    "\n",
    "# Aggregate all hours\n",
    "all_hours = []\n",
    "for uuid in min_sleepStage_incidents_time:\n",
    "    all_hours.extend(min_sleepStage_incidents_time[uuid])\n",
    "    \n",
    "all_hours = [int(hour) for hour in all_hours]\n",
    "\n",
    "# Create ordered hour list (22:00 to 09:00 next day)\n",
    "hour_order = list(range(23, 24)) + list(range(0, 9))\n",
    "\n",
    "# Count occurrences for each hour in the new order\n",
    "counts = [all_hours.count(h) for h in hour_order]\n",
    "\n",
    "# Plot the histogram with reordered hours\n",
    "bars = plt.bar(range(10), counts)\n",
    "\n",
    "# Add labels and title\n",
    "plt.xlabel('Hour')\n",
    "plt.ylabel('Number of awakenings')\n",
    "plt.title(f'Number of Awakenings per Hour - {sum(counts)} total - {number_of_recordings} quiet nights')\n",
    "\n",
    "# Set x-ticks to show hours in correct order\n",
    "plt.xticks(range(10), [f\"{h:02d}:00\" for h in hour_order])\n",
    "# plt.ylim(0, 25) # 25 / 35\n",
    "\n",
    "print(\"Number of awakenings total: \", sum(counts))\n",
    "\n",
    "plt.show()"
   ]
  },
  {
   "cell_type": "code",
   "execution_count": null,
   "metadata": {},
   "outputs": [],
   "source": []
  }
 ],
 "metadata": {
  "kernelspec": {
   "display_name": "Python 3",
   "language": "python",
   "name": "python3"
  },
  "language_info": {
   "codemirror_mode": {
    "name": "ipython",
    "version": 3
   },
   "file_extension": ".py",
   "mimetype": "text/x-python",
   "name": "python",
   "nbconvert_exporter": "python",
   "pygments_lexer": "ipython3",
   "version": "3.12.1"
  }
 },
 "nbformat": 4,
 "nbformat_minor": 2
}
