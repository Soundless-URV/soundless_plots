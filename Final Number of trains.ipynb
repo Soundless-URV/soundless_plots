{
 "cells": [
  {
   "cell_type": "markdown",
   "metadata": {},
   "source": [
    "# **Analysis of Adif data**\n",
    "### **Objective of this Notebook:** Analyze and detect the hours that most trains goes from the Tarragona's port\n",
    "\n",
    "This notebook is focused on analyzing Adif data. The objective is to identify the hours when the most trains depart from Tarragona's port. The analysis aims to provide insights into train periodicit."
   ]
  },
  {
   "cell_type": "code",
   "execution_count": 1,
   "metadata": {},
   "outputs": [],
   "source": [
    "import pandas as pd\n",
    "import matplotlib.pyplot as plt"
   ]
  },
  {
   "cell_type": "code",
   "execution_count": null,
   "metadata": {},
   "outputs": [],
   "source": [
    "## Read the data\n",
    "data = pd.read_excel('./adif-data.xlsx')\n",
    "\n",
    "## Delete headers\n",
    "data = data.iloc[3:]\n",
    "data = data.iloc[:, :-4]\n",
    "\n",
    "# Rename the columns\n",
    "data.columns = ['Date', 'Month', 'Hour', 'Origin', 'Destination']\n",
    "\n",
    "# Get only the rows that have in Destination the word 'TARRAGONA'\n",
    "data = data[data['Destination'].str.contains('TARRAGONA')]\n",
    "\n",
    "# Reset the index\n",
    "data = data.reset_index(drop=True)\n",
    "\n",
    "data"
   ]
  },
  {
   "cell_type": "code",
   "execution_count": null,
   "metadata": {},
   "outputs": [],
   "source": [
    "## Round the hour to the nearest 15 minutes\n",
    "# Group all the rows by Hour, rounded by 15 minutes\n",
    "data['Hour'] = pd.to_datetime(data['Hour'])\n",
    "\n",
    "# Round to nearest 15 minutes\n",
    "data['Hour'] = data['Hour'].dt.round('H')\n",
    "\n",
    "# If you want to keep only the time part\n",
    "data['Hour'] = data['Hour'].dt.time\n",
    "\n",
    "data"
   ]
  },
  {
   "cell_type": "code",
   "execution_count": null,
   "metadata": {},
   "outputs": [],
   "source": [
    "# Get only the data that is between 00:00 and 08:00\n",
    "filtered_data = data[(data['Hour'] >= pd.to_datetime('00:00:00').time()) & \n",
    "                     (data['Hour'] <= pd.to_datetime('08:00:00').time())]\n",
    "\n",
    "# Group by 'Hour' and count the number of rows for each hour\n",
    "hour_counts = filtered_data.groupby('Hour').size()\n",
    "\n",
    "# Convert index to datetime and format to hour numbers\n",
    "hour_counts.index = pd.to_datetime(hour_counts.index.astype(str)).strftime('%-H')\n",
    "\n",
    "# Create hour range labels\n",
    "hour_labels = [f'0{i} to 0{i+1}' for i in range(9)]\n",
    "\n",
    "# Plot the counts\n",
    "plt.figure(figsize=(10,6))\n",
    "hour_counts.plot(kind='bar')\n",
    "plt.xlabel('Hour Range')\n",
    "plt.ylabel('Number of trains')\n",
    "plt.title('Number of trains from 00:00 to 08:00 in 2023')\n",
    "plt.xticks(range(len(hour_labels)), hour_labels, rotation=45)  # Use new labels with 45-degree rotation\n",
    "# plt.grid()\n",
    "plt.show()"
   ]
  }
 ],
 "metadata": {
  "kernelspec": {
   "display_name": "base",
   "language": "python",
   "name": "python3"
  },
  "language_info": {
   "codemirror_mode": {
    "name": "ipython",
    "version": 3
   },
   "file_extension": ".py",
   "mimetype": "text/x-python",
   "name": "python",
   "nbconvert_exporter": "python",
   "pygments_lexer": "ipython3",
   "version": "3.12.2"
  }
 },
 "nbformat": 4,
 "nbformat_minor": 2
}
