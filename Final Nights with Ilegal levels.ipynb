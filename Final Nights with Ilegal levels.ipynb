{
 "cells": [
  {
   "cell_type": "markdown",
   "metadata": {},
   "source": [
    "# **Number of nights with ilegal noise**\n",
    "\n",
    "This notebook allows us to show the number of nights that the decibels level exceeds the legal limits set by the WHO (40 dB). This limits are exceeded when the user is sleeping."
   ]
  },
  {
   "cell_type": "code",
   "execution_count": 1,
   "metadata": {},
   "outputs": [],
   "source": [
    "import pandas as pd\n",
    "import matplotlib.pyplot as plt\n",
    "import os"
   ]
  },
  {
   "cell_type": "code",
   "execution_count": 2,
   "metadata": {},
   "outputs": [],
   "source": [
    "def remove_initial_neg(df: pd.DataFrame) -> pd.DataFrame:\n",
    "    # Find the first index where sleepStage is not -1\n",
    "    df.reset_index(drop=True, inplace=True)\n",
    "    \n",
    "    first_non_neg_index = (df['sleepStage'] != -1).idxmax()\n",
    "\n",
    "    # Return the dataframe starting from that index\n",
    "    return df[first_non_neg_index:]"
   ]
  },
  {
   "cell_type": "code",
   "execution_count": 3,
   "metadata": {},
   "outputs": [],
   "source": [
    "# Read the files and add the city name to each row - All files\n",
    "def read_data(files_name: list[str]) -> pd.DataFrame:\n",
    "    all_data_not_filtered = pd.concat([pd.read_csv(f\"./soundless-data/{file_name}\").assign(city=file_name.split('_')[0] + '_' + file_name.split('_')[1].replace('.csv', '')) for file_name in files_name if file_name.startswith('Tarragona_province')], ignore_index=True)\n",
    "    return all_data_not_filtered"
   ]
  },
  {
   "cell_type": "markdown",
   "metadata": {},
   "source": [
    "## Get and process data"
   ]
  },
  {
   "cell_type": "code",
   "execution_count": null,
   "metadata": {},
   "outputs": [],
   "source": [
    "# Read all files in ./tmp/ directory, and put them in a single dataFrame\n",
    "df = read_data(os.listdir(\"./soundless-data/\"))\n",
    "df.shape"
   ]
  },
  {
   "cell_type": "code",
   "execution_count": null,
   "metadata": {},
   "outputs": [],
   "source": [
    "def calculate_recording_duration(df):\n",
    "    # Group by UUID and calculate time range\n",
    "    duration_by_uuid = df.groupby('uuid').agg({\n",
    "        'timestamp': lambda x: (x.max() - x.min()) / (1000 * 60 * 60)  # ms to hours\n",
    "    })\n",
    "    \n",
    "    total_hours = duration_by_uuid['timestamp'].sum()\n",
    "    avg_hours = total_hours / len(duration_by_uuid)\n",
    "    \n",
    "    print(f\"Total recording hours: {total_hours:.2f}\")\n",
    "    print(f\"Average hours per UUID: {avg_hours:.2f}\")\n",
    "    print(f\"Number of recordings (UUIDs): {len(duration_by_uuid)}\")\n",
    "    \n",
    "    return total_hours, avg_hours\n",
    "\n",
    "# Calculate durations after filtering\n",
    "total_hours, avg_hours = calculate_recording_duration(df)"
   ]
  },
  {
   "cell_type": "code",
   "execution_count": null,
   "metadata": {},
   "outputs": [],
   "source": [
    "## Filtering\n",
    "# Delete duplicates\n",
    "df = df.drop_duplicates()\n",
    "\n",
    "# Delete uuids without heartRate\n",
    "df = df[df['heartRate'] != -1]\n",
    "\n",
    "# Delete uuids with low number of rows\n",
    "uuid_counts = df['uuid'].value_counts()\n",
    "to_keep = uuid_counts[uuid_counts >= 100].index\n",
    "df = df[df['uuid'].isin(to_keep)]\n",
    "\n",
    "# Delete uuids that have a value lower or equal than 30 as the average value of the dB column\n",
    "uuid_group = df.groupby('uuid')['dB'].agg(['mean'])\n",
    "uuid_group = uuid_group[uuid_group['mean'] > 30]\n",
    "df = df[df['uuid'].isin(uuid_group.index)]\n",
    "\n",
    "df_filtered = pd.DataFrame(\n",
    "        columns=['uuid', 'timestamp', 'dB', 'heartRate', 'sleepStage'])\n",
    "\n",
    "# Use the remove_initial_neg funtion for every uuid\n",
    "df.groupby('uuid').apply(remove_initial_neg)\n",
    "\n",
    "print(df.shape)"
   ]
  },
  {
   "cell_type": "code",
   "execution_count": 7,
   "metadata": {},
   "outputs": [],
   "source": [
    "## Get all uuids of the user history\n",
    "# Create an empty dictionary to store the uuids lists\n",
    "history_uuids = {}\n",
    "\n",
    "# Loop through each file in the soundless-history folder\n",
    "for filename in os.listdir('./soundless-history'):\n",
    "    # Read the file\n",
    "    with open(os.path.join('./soundless-history', filename), 'r') as f:\n",
    "        data = f.read()\n",
    "    # Check if the file is empty\n",
    "    if data.strip():\n",
    "        # Split the string by commas to create a list of uuids\n",
    "        uuids = data.split(',')\n",
    "        # Add the uuids to the dictionary\n",
    "        history_uuids[filename] = uuids\n",
    "\n",
    "# history_uuids"
   ]
  },
  {
   "cell_type": "code",
   "execution_count": null,
   "metadata": {},
   "outputs": [],
   "source": [
    "## Add 'user' column to df\n",
    "# Invert the history_uuids dictionary to easily map uuids to user keys\n",
    "uuid_to_user = {uuid: user for user, uuids in history_uuids.items() for uuid in uuids}\n",
    "\n",
    "# Create a new column 'user' in df by mapping the 'uuid' column using the uuid_to_user dictionary\n",
    "df['user'] = df['uuid'].map(uuid_to_user)\n",
    "\n",
    "# Now df has a new column 'user' with the corresponding user key from history_uuids\n",
    "df"
   ]
  },
  {
   "cell_type": "markdown",
   "metadata": {},
   "source": [
    "#"
   ]
  },
  {
   "cell_type": "markdown",
   "metadata": {},
   "source": [
    "# Extract the sleep incidents from the dataset"
   ]
  },
  {
   "cell_type": "code",
   "execution_count": 9,
   "metadata": {},
   "outputs": [],
   "source": [
    "def incidents_sleep(sleepStage: list[int]) -> list[int]:\n",
    "    data_list = []\n",
    "    position = 0\n",
    "    last_deep_sleep_position = -1\n",
    "\n",
    "    for row in sleepStage:\n",
    "        if row >= 2:\n",
    "            data_list.append(0)\n",
    "            last_deep_sleep_position = position\n",
    "        elif row <= 0 and last_deep_sleep_position != -1 and position <= last_deep_sleep_position + 4:\n",
    "            data_list.append(1)\n",
    "        else:\n",
    "            data_list.append(0)\n",
    "        \n",
    "        position += 1\n",
    "\n",
    "    return data_list"
   ]
  },
  {
   "cell_type": "code",
   "execution_count": 10,
   "metadata": {},
   "outputs": [],
   "source": [
    "# Get the timestamps of the signal changes\n",
    "def get_timestamps_incident(signals: list[int], timestamps: list[int]) -> list[int]:\n",
    "    # Initialize a list to store the timestamps of the signal changes\n",
    "    change_timestamps = []\n",
    "\n",
    "    # Loop through the signals\n",
    "    for i in range(1, len(signals)):\n",
    "        # If the signal is 1 and the previous signal was 0, append the timestamp to the list\n",
    "        if signals[i] == 1 and signals[i-1] == 0:\n",
    "            change_timestamps.append(int(timestamps[i]))\n",
    "            \n",
    "    # Return the list of timestamps\n",
    "    return change_timestamps"
   ]
  },
  {
   "cell_type": "code",
   "execution_count": 11,
   "metadata": {},
   "outputs": [],
   "source": [
    "## Get the incidents\n",
    "# Dictionary with uuids and their incidents\n",
    "sleepStage_incidents = {}\n",
    "\n",
    "# For every uuid\n",
    "for uuid in df['uuid'].unique():\n",
    "    # Data of this uuid\n",
    "    data_uuid = df[df.uuid == uuid]\n",
    "    timestamps_uuid = data_uuid['timestamp'].values\n",
    "    y_sleepStage = data_uuid['sleepStage'].values\n",
    "\n",
    "    # Run function to detect incidents in sleepStage\n",
    "    result = incidents_sleep(y_sleepStage)\n",
    "    sleepStage_incidents[uuid] = get_timestamps_incident(result, timestamps_uuid)"
   ]
  },
  {
   "cell_type": "code",
   "execution_count": null,
   "metadata": {},
   "outputs": [],
   "source": [
    "# Check of incidents on heartRate_db and sleepStage_db\n",
    "print(\"Number of uuids in max_sleepStage_db incidents: \", len(sleepStage_incidents.keys()))\n",
    "print(\"Number of sleepStage_db incidents: \", sum(len(v) for v in sleepStage_incidents.values()))\n",
    "print(\"Average number of sleepStage_db incidents per uuid: \", sum(len(v) for v in sleepStage_incidents.values()) / len(sleepStage_incidents.keys()))\n",
    "print(\"Minimum number of sleepStage_db incidents: \", min(len(v) for v in sleepStage_incidents.values()))\n",
    "print(\"Maximum number of sleepStage_db incidents: \", max(len(v) for v in sleepStage_incidents.values()))"
   ]
  },
  {
   "cell_type": "markdown",
   "metadata": {},
   "source": [
    "#"
   ]
  },
  {
   "cell_type": "markdown",
   "metadata": {},
   "source": [
    "# Generate the plot"
   ]
  },
  {
   "cell_type": "code",
   "execution_count": 13,
   "metadata": {},
   "outputs": [],
   "source": [
    "# Get the number of nights that the sound level was higher than 40 dB\n",
    "nights_higher_40 = 0\n",
    "nights_lower_40 = 0\n",
    "\n",
    "sleeping_df = df[df['sleepStage'] != -1]\n",
    "\n",
    "# Calculate max dB per uuid\n",
    "max_db_per_uuid = sleeping_df.groupby('uuid')['dB'].max()\n",
    "\n",
    "# Count nights above/below 40dB\n",
    "nights_higher_40 = (max_db_per_uuid > 40).sum()\n",
    "nights_lower_40 = (max_db_per_uuid <= 40).sum()"
   ]
  },
  {
   "cell_type": "code",
   "execution_count": null,
   "metadata": {},
   "outputs": [],
   "source": [
    "# Create custom colors and explode effect\n",
    "colors = ['#FF6B6B', '#4ECDC4']  # Coral red and turquoise\n",
    "explode = (0.05, 0)  # Pull out first slice slightly\n",
    "\n",
    "# Create the plot with improved styling\n",
    "fig, ax = plt.subplots(figsize=(10, 8))\n",
    "\n",
    "# Create pie chart with enhanced features\n",
    "wedges, texts, autotexts = ax.pie(\n",
    "    [nights_higher_40, nights_lower_40],\n",
    "    explode=explode,\n",
    "    labels=['Higher than 40 dB', 'Lower or equal to 40 dB'],\n",
    "    autopct='%1.1f%%',\n",
    "    startangle=90,\n",
    "    colors=colors\n",
    ")\n",
    "\n",
    "# Style the text elements\n",
    "plt.setp(autotexts, size=10, weight=\"bold\")\n",
    "plt.setp(texts, size=12)\n",
    "\n",
    "# Add title\n",
    "ax.set_title('Distribution of Nights by Sound Level with the users sleeping', pad=20, size=14, weight='bold')\n",
    "\n",
    "# Equal aspect ratio ensures that pie is drawn as a circle\n",
    "ax.axis('equal')\n",
    "\n",
    "# Add legend\n",
    "plt.legend(\n",
    "    wedges,\n",
    "    ['Higher than 40 dB', 'Lower or equal to 40 dB'],\n",
    "    title=\"Sound Levels\",\n",
    "    loc=\"center left\",\n",
    "    bbox_to_anchor=(1, 0, 0.5, 1)\n",
    ")\n",
    "\n",
    "plt.tight_layout()\n",
    "plt.show()"
   ]
  },
  {
   "cell_type": "code",
   "execution_count": null,
   "metadata": {},
   "outputs": [],
   "source": []
  }
 ],
 "metadata": {
  "kernelspec": {
   "display_name": "base",
   "language": "python",
   "name": "python3"
  },
  "language_info": {
   "codemirror_mode": {
    "name": "ipython",
    "version": 3
   },
   "file_extension": ".py",
   "mimetype": "text/x-python",
   "name": "python",
   "nbconvert_exporter": "python",
   "pygments_lexer": "ipython3",
   "version": "3.12.2"
  }
 },
 "nbformat": 4,
 "nbformat_minor": 2
}
