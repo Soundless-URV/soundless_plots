{
 "cells": [
  {
   "cell_type": "markdown",
   "metadata": {},
   "source": [
    "# **Data Visualization**\n",
    "### **Notebook Objective:**\n",
    "This notebook reads the final processed data from *data.pkl* and generates the appropriate plots. It provides visual insights to support further analysis by illustrating trends and differences within the dataset."
   ]
  },
  {
   "cell_type": "code",
   "execution_count": 1,
   "metadata": {},
   "outputs": [],
   "source": [
    "import matplotlib.pyplot as plt\n",
    "from datetime import datetime\n",
    "import pickle"
   ]
  },
  {
   "cell_type": "markdown",
   "metadata": {},
   "source": [
    "# Load all the variables"
   ]
  },
  {
   "cell_type": "code",
   "execution_count": null,
   "metadata": {},
   "outputs": [],
   "source": [
    "# Load the variables from 'data.pkl'\n",
    "with open('data.pkl', 'rb') as file:\n",
    "    data = pickle.load(file)\n",
    "\n",
    "## Access the variables\n",
    "# Nights with illegal levels of noise\n",
    "nights_higher_40 = data[\"nights_higher_40\"]\n",
    "nights_lower_40 = data[\"nights_lower_40\"]\n",
    "\n",
    "# Mean dB values\n",
    "mean = data[\"mean\"]\n",
    "mean_sleeping = data[\"mean_sleeping\"]\n",
    "hourly_mean = data[\"hourly_mean\"]\n",
    "hourly_mean_sleeping = data[\"hourly_mean_sleeping\"]\n",
    "\n",
    "# Number of awakenings\n",
    "number_of_recordings = data[\"number_of_recordings\"]\n",
    "max_sleepStage_incidents = data[\"max_sleepStage_incidents\"]\n",
    "min_sleepStage_incidents = data[\"min_sleepStage_incidents\"]\n",
    "\n",
    "# Noisy quiet dB hR levels\n",
    "mean_max_dB = data[\"mean_max_dB\"]\n",
    "mean_dB = data[\"mean_dB\"]\n",
    "mean_max_hR = data[\"mean_max_hR\"]\n",
    "mean_hR = data[\"mean_hR\"]"
   ]
  },
  {
   "cell_type": "markdown",
   "metadata": {},
   "source": [
    "#"
   ]
  },
  {
   "cell_type": "markdown",
   "metadata": {},
   "source": [
    "# Generate the plots"
   ]
  },
  {
   "cell_type": "markdown",
   "metadata": {},
   "source": [
    "## Nights with higher/lower dB levels than the legal limit"
   ]
  },
  {
   "cell_type": "code",
   "execution_count": null,
   "metadata": {},
   "outputs": [],
   "source": [
    "# Create custom colors and explode effect\n",
    "colors = ['#FF6B6B', '#4ECDC4']  # Coral red and turquoise\n",
    "explode = (0.05, 0)  # Pull out first slice slightly\n",
    "\n",
    "# Create the plot with improved styling\n",
    "fig, ax = plt.subplots(figsize=(10, 8))\n",
    "\n",
    "# Create pie chart with enhanced features\n",
    "wedges, texts, autotexts = ax.pie(\n",
    "    [nights_higher_40, nights_lower_40],\n",
    "    explode=explode,\n",
    "    labels=['Higher than 40 dB', 'Lower or equal to 40 dB'],\n",
    "    autopct='%1.1f%%',\n",
    "    startangle=90,\n",
    "    colors=colors\n",
    ")\n",
    "\n",
    "# Style the text elements\n",
    "plt.setp(autotexts, size=10, weight=\"bold\")\n",
    "plt.setp(texts, size=12)\n",
    "\n",
    "# Add title\n",
    "ax.set_title('Distribution of Nights by Sound Level with the users sleeping', pad=20, size=14, weight='bold')\n",
    "\n",
    "# Equal aspect ratio ensures that pie is drawn as a circle\n",
    "ax.axis('equal')\n",
    "\n",
    "# Add legend\n",
    "plt.legend(\n",
    "    wedges,\n",
    "    ['Higher than 40 dB', 'Lower or equal to 40 dB'],\n",
    "    title=\"Sound Levels\",\n",
    "    loc=\"center left\",\n",
    "    bbox_to_anchor=(1, 0, 0.5, 1)\n",
    ")\n",
    "\n",
    "plt.tight_layout()\n",
    "plt.show()"
   ]
  },
  {
   "cell_type": "markdown",
   "metadata": {},
   "source": [
    "#"
   ]
  },
  {
   "cell_type": "markdown",
   "metadata": {},
   "source": [
    "## Average dB value"
   ]
  },
  {
   "cell_type": "markdown",
   "metadata": {},
   "source": [
    "### Average dB value with the user sleeping"
   ]
  },
  {
   "cell_type": "code",
   "execution_count": null,
   "metadata": {},
   "outputs": [],
   "source": [
    "# Plot the results\n",
    "plt.figure(figsize=(20, 10))\n",
    "\n",
    "# Plot the mean line\n",
    "plt.plot(mean_sleeping.index, mean_sleeping, label='Mean dB', color='red')\n",
    "\n",
    "# Set ticks\n",
    "tick_spacing = max(len(mean_sleeping.index) // 10, 1)  # Prevent division by zero\n",
    "plt.xticks(range(0, len(mean_sleeping.index), tick_spacing), mean_sleeping.index[::tick_spacing], fontsize=10, rotation=45)\n",
    "\n",
    "plt.title(\"Mean of dB level with the users sleeping\", fontsize=20)\n",
    "\n",
    "plt.xlabel('Time', fontsize=15)\n",
    "plt.ylabel('dB', fontsize=15)\n",
    "\n",
    "# Add grid\n",
    "plt.grid()\n",
    "\n",
    "plt.legend(fontsize=15)\n",
    "plt.show()\n"
   ]
  },
  {
   "cell_type": "markdown",
   "metadata": {},
   "source": [
    "### Average dB value with the user sleeping or not"
   ]
  },
  {
   "cell_type": "code",
   "execution_count": null,
   "metadata": {},
   "outputs": [],
   "source": [
    "# Plot the results\n",
    "plt.figure(figsize=(20, 10))\n",
    "\n",
    "# Plot the mean line\n",
    "plt.plot(mean.index, mean, label='Mean dB', color='red')\n",
    "\n",
    "# Set ticks\n",
    "tick_spacing = max(len(mean.index) // 10, 1)  # Prevent division by zero\n",
    "plt.xticks(range(0, len(mean.index), tick_spacing), mean.index[::tick_spacing], fontsize=10, rotation=45)\n",
    "\n",
    "plt.title(\"Mean of dB level with the users sleeping\", fontsize=20)\n",
    "\n",
    "plt.xlabel('Time', fontsize=15)\n",
    "plt.ylabel('dB', fontsize=15)\n",
    "\n",
    "# Add grid\n",
    "plt.grid()\n",
    "\n",
    "plt.legend(fontsize=15)\n",
    "plt.show()"
   ]
  },
  {
   "cell_type": "markdown",
   "metadata": {},
   "source": [
    "#"
   ]
  },
  {
   "cell_type": "markdown",
   "metadata": {},
   "source": [
    "### Same plots but with bars"
   ]
  },
  {
   "cell_type": "markdown",
   "metadata": {},
   "source": [
    "### Average dB value with the user sleeping"
   ]
  },
  {
   "cell_type": "code",
   "execution_count": null,
   "metadata": {},
   "outputs": [],
   "source": [
    "# Create bar plot\n",
    "plt.figure(figsize=(20, 10))\n",
    "\n",
    "plt.bar(range(len(hourly_mean_sleeping)), hourly_mean_sleeping.values)\n",
    "\n",
    "# Customize the plot\n",
    "plt.title(\"Average dB Level by Hour with the Users Sleeping\", fontsize=20)\n",
    "plt.xlabel('Hour', fontsize=15)\n",
    "plt.ylabel('Average dB', fontsize=15)\n",
    "\n",
    "# Set x-axis ticks to show hours\n",
    "plt.xticks(range(len(hourly_mean_sleeping)), hourly_mean_sleeping.index, rotation=45, fontsize=12)\n",
    "\n",
    "# Add value labels on top of each bar\n",
    "for i, v in enumerate(hourly_mean_sleeping.values):\n",
    "    plt.text(i, v + 0.5, f'{v:.1f}', ha='center', fontsize=12)\n",
    "    \n",
    "# Y axis start at 25\n",
    "plt.ylim(30, 45)\n",
    "\n",
    "plt.tight_layout()\n",
    "plt.show()"
   ]
  },
  {
   "cell_type": "markdown",
   "metadata": {},
   "source": [
    "### Average dB value with the user sleeping or not"
   ]
  },
  {
   "cell_type": "code",
   "execution_count": null,
   "metadata": {},
   "outputs": [],
   "source": [
    "# Create bar plot\n",
    "plt.figure(figsize=(20, 10))\n",
    "\n",
    "plt.bar(range(len(hourly_mean)), hourly_mean.values)\n",
    "\n",
    "# Customize the plot\n",
    "plt.title(\"Average dB Level by Hour\", fontsize=20)\n",
    "plt.xlabel('Hour', fontsize=15)\n",
    "plt.ylabel('Average dB', fontsize=15)\n",
    "\n",
    "# Set x-axis ticks to show hours\n",
    "plt.xticks(range(len(hourly_mean)), hourly_mean.index, rotation=45, fontsize=12)\n",
    "\n",
    "# Add value labels on top of each bar\n",
    "for i, v in enumerate(hourly_mean.values):\n",
    "    plt.text(i, v + 0.5, f'{v:.1f}', ha='center', fontsize=12)\n",
    "    \n",
    "# Y axis start at 25\n",
    "plt.ylim(30, 45)\n",
    "\n",
    "plt.tight_layout()\n",
    "plt.show()"
   ]
  },
  {
   "cell_type": "markdown",
   "metadata": {},
   "source": [
    "#"
   ]
  },
  {
   "cell_type": "markdown",
   "metadata": {},
   "source": [
    "## Number of awakenings per hour of the noisy and quiet nights"
   ]
  },
  {
   "cell_type": "code",
   "execution_count": null,
   "metadata": {},
   "outputs": [],
   "source": [
    "# Plot the aggregated number of incidents per hour\n",
    "plt.figure(figsize=(15, 7))\n",
    "\n",
    "# Aggregate all hours\n",
    "all_hours = []\n",
    "for uuid in max_sleepStage_incidents:\n",
    "    all_hours.extend(max_sleepStage_incidents[uuid])\n",
    "    \n",
    "all_hours = [int(hour) for hour in all_hours]\n",
    "\n",
    "# Create ordered hour list (22:00 to 09:00 next day)\n",
    "hour_order = list(range(23, 24)) + list(range(0, 9))\n",
    "\n",
    "# Count occurrences for each hour in the new order\n",
    "counts = [all_hours.count(h) for h in hour_order]\n",
    "\n",
    "# Plot the histogram with reordered hours\n",
    "bars = plt.bar(range(10), counts)\n",
    "\n",
    "# Add labels and title\n",
    "plt.xlabel('Hour')\n",
    "plt.ylabel('Number of awakenings')\n",
    "plt.title(f'Number of Awakenings per Hour - {sum(counts)} total - {number_of_recordings} noisy nights')\n",
    "\n",
    "# Set x-ticks to show hours in correct order\n",
    "plt.xticks(range(10), [f\"{h:02d}:00\" for h in hour_order])\n",
    "# plt.ylim(0, 25) # 25 / 35\n",
    "\n",
    "plt.show()"
   ]
  },
  {
   "cell_type": "code",
   "execution_count": null,
   "metadata": {},
   "outputs": [],
   "source": [
    "# Plot the aggregated number of incidents per hour\n",
    "plt.figure(figsize=(15, 7))\n",
    "\n",
    "# Aggregate all hours\n",
    "all_hours = []\n",
    "for uuid in min_sleepStage_incidents:\n",
    "    all_hours.extend(min_sleepStage_incidents[uuid])\n",
    "    \n",
    "all_hours = [int(hour) for hour in all_hours]\n",
    "\n",
    "# Create ordered hour list (22:00 to 09:00 next day)\n",
    "hour_order = list(range(23, 24)) + list(range(0, 9))\n",
    "\n",
    "# Count occurrences for each hour in the new order\n",
    "counts = [all_hours.count(h) for h in hour_order]\n",
    "\n",
    "# Plot the histogram with reordered hours\n",
    "bars = plt.bar(range(10), counts)\n",
    "\n",
    "# Add labels and title\n",
    "plt.xlabel('Hour')\n",
    "plt.ylabel('Number of awakenings')\n",
    "plt.title(f'Number of Awakenings per Hour - {sum(counts)} total - {number_of_recordings} quiet nights')\n",
    "\n",
    "# Set x-ticks to show hours in correct order\n",
    "plt.xticks(range(10), [f\"{h:02d}:00\" for h in hour_order])\n",
    "# plt.ylim(0, 25) # 25 / 35\n",
    "\n",
    "plt.show()"
   ]
  },
  {
   "cell_type": "markdown",
   "metadata": {},
   "source": [
    "#"
   ]
  },
  {
   "cell_type": "markdown",
   "metadata": {},
   "source": [
    "## dB and heartRate levels the quiet and noisy nights"
   ]
  },
  {
   "cell_type": "code",
   "execution_count": null,
   "metadata": {},
   "outputs": [],
   "source": [
    "# Plot the results\n",
    "plt.figure(figsize=(20, 10))\n",
    "\n",
    "# Plot the mean line\n",
    "plt.plot(mean_max_dB.index, mean_max_dB, label='Noisy Night - Mean', color='red')\n",
    "plt.plot(mean_dB.index, mean_dB, label='Quiet Night - Mean', color='blue', linestyle='--')\n",
    "\n",
    "# Convert timestamps to HH:MM format\n",
    "def format_time(timestamp):\n",
    "    if isinstance(timestamp, str):\n",
    "        try:\n",
    "            # Try HH:MM:SS format first\n",
    "            timestamp = datetime.strptime(timestamp, '%H:%M:%S')\n",
    "        except ValueError:\n",
    "            try:\n",
    "                # Try full datetime format\n",
    "                timestamp = datetime.strptime(timestamp, '%Y-%m-%d %H:%M:%S')\n",
    "            except ValueError:\n",
    "                # If both fail, just return the first 5 characters (HH:MM)\n",
    "                return timestamp[:5]\n",
    "    return timestamp.strftime('%H:%M')\n",
    "\n",
    "# Set ticks with formatted time\n",
    "tick_spacing = max(len(mean_dB.index) // 10, 1)\n",
    "formatted_times = [format_time(t) for t in mean_dB.index[::tick_spacing]]\n",
    "plt.xticks(range(0, len(mean_dB.index), tick_spacing), formatted_times, fontsize=10, rotation=45)\n",
    "\n",
    "plt.title(\"Quiet Night vs Noisy Night Decibels Level\", fontsize=20)\n",
    "plt.xlabel('Time (hours)', fontsize=15)\n",
    "plt.ylabel('dB', fontsize=15)\n",
    "plt.legend(fontsize=15)\n",
    "plt.show()"
   ]
  },
  {
   "cell_type": "code",
   "execution_count": null,
   "metadata": {},
   "outputs": [],
   "source": [
    "# Plot the results\n",
    "plt.figure(figsize=(20, 10))\n",
    "\n",
    "# Plot the mean line\n",
    "plt.plot(mean_max_hR.index, mean_max_hR, label='Noisy Night - Mean', color='red')\n",
    "plt.plot(mean_hR.index, mean_hR, label='Quiet Night - Mean', color='blue', linestyle='--')\n",
    "\n",
    "# Convert timestamps to HH:MM format\n",
    "def format_time(timestamp):\n",
    "    if isinstance(timestamp, str):\n",
    "        try:\n",
    "            # Try HH:MM:SS format first\n",
    "            timestamp = datetime.strptime(timestamp, '%H:%M:%S')\n",
    "        except ValueError:\n",
    "            try:\n",
    "                # Try full datetime format\n",
    "                timestamp = datetime.strptime(timestamp, '%Y-%m-%d %H:%M:%S')\n",
    "            except ValueError:\n",
    "                # If both fail, just return the first 5 characters (HH:MM)\n",
    "                return timestamp[:5]\n",
    "    return timestamp.strftime('%H:%M')\n",
    "\n",
    "# Set ticks with formatted time\n",
    "tick_spacing = max(len(mean_hR.index) // 10, 1)\n",
    "formatted_times = [format_time(t) for t in mean_hR.index[::tick_spacing]]\n",
    "plt.xticks(range(0, len(mean_hR.index), tick_spacing), formatted_times, fontsize=10, rotation=45)\n",
    "\n",
    "plt.title(\"Quiet Night vs Noisy Night Heart Rate Level\", fontsize=20)\n",
    "plt.xlabel('Time (hours)', fontsize=15)\n",
    "plt.ylabel('heartRate', fontsize=15)\n",
    "# plt.grid()\n",
    "plt.legend(fontsize=15)\n",
    "plt.show()"
   ]
  },
  {
   "cell_type": "code",
   "execution_count": null,
   "metadata": {},
   "outputs": [],
   "source": []
  }
 ],
 "metadata": {
  "kernelspec": {
   "display_name": "Python 3",
   "language": "python",
   "name": "python3"
  },
  "language_info": {
   "codemirror_mode": {
    "name": "ipython",
    "version": 3
   },
   "file_extension": ".py",
   "mimetype": "text/x-python",
   "name": "python",
   "nbconvert_exporter": "python",
   "pygments_lexer": "ipython3",
   "version": "3.12.1"
  }
 },
 "nbformat": 4,
 "nbformat_minor": 2
}
