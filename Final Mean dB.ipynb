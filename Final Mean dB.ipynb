{
 "cells": [
  {
   "cell_type": "markdown",
   "metadata": {},
   "source": [
    "# **Average dB value**\n",
    "\n",
    "This notebook allows us to show the average value of dB of all the dataset. We can show it when the user is confirmed that is sleeping and when we don't see if the user is sleeping or not. We show this data with two types of plots, a bar plot and a line plot."
   ]
  },
  {
   "cell_type": "code",
   "execution_count": 1,
   "metadata": {},
   "outputs": [],
   "source": [
    "import pandas as pd\n",
    "import os\n",
    "import matplotlib.pyplot as plt"
   ]
  },
  {
   "cell_type": "code",
   "execution_count": 2,
   "metadata": {},
   "outputs": [],
   "source": [
    "def remove_initial_neg(df: pd.DataFrame) -> pd.DataFrame:\n",
    "    # Find the first index where sleepStage is not -1\n",
    "    df.reset_index(drop=True, inplace=True)\n",
    "    \n",
    "    first_non_neg_index = (df['sleepStage'] != -1).idxmax()\n",
    "\n",
    "    # Return the dataframe starting from that index\n",
    "    return df[first_non_neg_index:]"
   ]
  },
  {
   "cell_type": "code",
   "execution_count": 3,
   "metadata": {},
   "outputs": [],
   "source": [
    "# Read the files and add the city name to each row - All files\n",
    "def read_data(files_name: list[str]) -> pd.DataFrame:\n",
    "    all_data_not_filtered = pd.concat([pd.read_csv(f\"./soundless-data/{file_name}\").assign(city=file_name.split('_')[0] + '_' + file_name.split('_')[1].replace('.csv', '')) for file_name in files_name if file_name.startswith('Tarragona_province')], ignore_index=True)\n",
    "    return all_data_not_filtered"
   ]
  },
  {
   "cell_type": "markdown",
   "metadata": {},
   "source": [
    "## Get and process data"
   ]
  },
  {
   "cell_type": "code",
   "execution_count": null,
   "metadata": {},
   "outputs": [],
   "source": [
    "# Read all files in ./tmp/ directory, and put them in a single dataFrame\n",
    "df = read_data(os.listdir(\"./soundless-data/\"))\n",
    "df.shape"
   ]
  },
  {
   "cell_type": "code",
   "execution_count": null,
   "metadata": {},
   "outputs": [],
   "source": [
    "## Filtering\n",
    "# Delete duplicates\n",
    "df = df.drop_duplicates()\n",
    "\n",
    "# Delete uuids without heartRate\n",
    "df = df[df['heartRate'] != -1]\n",
    "\n",
    "# Delete uuids with low number of rows\n",
    "uuid_counts = df['uuid'].value_counts()\n",
    "to_keep = uuid_counts[uuid_counts >= 100].index\n",
    "df = df[df['uuid'].isin(to_keep)]\n",
    "\n",
    "# Delete uuids that have a value lower or equal than 30 as the average value of the dB column\n",
    "uuid_group = df.groupby('uuid')['dB'].agg(['mean'])\n",
    "uuid_group = uuid_group[uuid_group['mean'] > 30]\n",
    "df = df[df['uuid'].isin(uuid_group.index)]\n",
    "\n",
    "df_filtered = pd.DataFrame(\n",
    "        columns=['uuid', 'timestamp', 'dB', 'heartRate', 'sleepStage'])\n",
    "\n",
    "# Use the remove_initial_neg funtion for every uuid\n",
    "df.groupby('uuid').apply(remove_initial_neg)\n",
    "\n",
    "print(df.shape)"
   ]
  },
  {
   "cell_type": "code",
   "execution_count": 6,
   "metadata": {},
   "outputs": [],
   "source": [
    "## Get all uuids of the user history\n",
    "# Create an empty dictionary to store the uuids lists\n",
    "history_uuids = {}\n",
    "\n",
    "# Loop through each file in the soundless-history folder\n",
    "for filename in os.listdir('./soundless-history'):\n",
    "    # Read the file\n",
    "    with open(os.path.join('./soundless-history', filename), 'r') as f:\n",
    "        data = f.read()\n",
    "    # Check if the file is empty\n",
    "    if data.strip():\n",
    "        # Split the string by commas to create a list of uuids\n",
    "        uuids = data.split(',')\n",
    "        # Add the uuids to the dictionary\n",
    "        history_uuids[filename] = uuids\n",
    "\n",
    "# history_uuids"
   ]
  },
  {
   "cell_type": "code",
   "execution_count": null,
   "metadata": {},
   "outputs": [],
   "source": [
    "## Add 'user' column to df\n",
    "# Invert the history_uuids dictionary to easily map uuids to user keys\n",
    "uuid_to_user = {uuid: user for user, uuids in history_uuids.items() for uuid in uuids}\n",
    "\n",
    "# Create a new column 'user' in df by mapping the 'uuid' column using the uuid_to_user dictionary\n",
    "df['user'] = df['uuid'].map(uuid_to_user)\n",
    "\n",
    "# Now df has a new column 'user' with the corresponding user key from history_uuids\n",
    "df"
   ]
  },
  {
   "cell_type": "markdown",
   "metadata": {},
   "source": [
    "## Plot and extract the user data"
   ]
  },
  {
   "cell_type": "markdown",
   "metadata": {},
   "source": [
    "## Plot with the user sleeping"
   ]
  },
  {
   "cell_type": "code",
   "execution_count": null,
   "metadata": {},
   "outputs": [],
   "source": [
    "# PLOT MEAN THE LOUDEST HOURS OF ALL NIGHTS\n",
    "all_dB_df = df.copy()\n",
    "\n",
    "# Round all the timestamps to 5-seconds intervals\n",
    "# Sort by timestamp\n",
    "all_dB_df = all_dB_df.sort_values(by=['timestamp'])\n",
    "\n",
    "# Convert the timestamp to datetime\n",
    "all_dB_df['timestamp'] = pd.to_datetime(all_dB_df['timestamp'], unit='ms')\n",
    "all_dB_df['timestamp'] = all_dB_df['timestamp'].dt.round('1min')\n",
    "\n",
    "# Delete the day from the timestamp\n",
    "all_dB_df['timestamp'] = all_dB_df['timestamp'].dt.strftime('%H:%M:%S')\n",
    "all_dB_df = all_dB_df.sort_values(by=['timestamp'])\n",
    "\n",
    "\n",
    "# Get data from 00:00:00 to 08:00:00\n",
    "all_dB_df = all_dB_df[(all_dB_df['timestamp'] >= '00:00:00') & (all_dB_df['timestamp'] <= '08:00:00')]\n",
    "\n",
    "# Delete uuids without sleepStage\n",
    "all_dB_df = all_dB_df[all_dB_df['sleepStage'] != -1]\n",
    "\n",
    "# Group by timestamp and calculate the mean of the dB values on each timestamp\n",
    "mean = all_dB_df.groupby('timestamp')['dB'].mean()\n",
    "\n",
    "# Plot the results\n",
    "plt.figure(figsize=(20, 10))\n",
    "\n",
    "# Plot the mean line\n",
    "plt.plot(mean.index, mean, label='Mean dB', color='red')\n",
    "\n",
    "# Set ticks\n",
    "tick_spacing = max(len(mean.index) // 10, 1)  # Prevent division by zero\n",
    "plt.xticks(range(0, len(mean.index), tick_spacing), mean.index[::tick_spacing], fontsize=10, rotation=45)\n",
    "\n",
    "plt.title(\"Mean of dB level with the users sleeping\", fontsize=20)\n",
    "\n",
    "plt.xlabel('Time', fontsize=15)\n",
    "plt.ylabel('dB', fontsize=15)\n",
    "\n",
    "# Add grid\n",
    "plt.grid()\n",
    "\n",
    "plt.legend(fontsize=15)\n",
    "plt.show()\n",
    "\n",
    "# Mean dB value\n",
    "print(f\"Mean heartRate value: {mean.mean()}\")\n"
   ]
  },
  {
   "cell_type": "markdown",
   "metadata": {},
   "source": [
    "## Plot with the user sleeping or not"
   ]
  },
  {
   "cell_type": "code",
   "execution_count": null,
   "metadata": {},
   "outputs": [],
   "source": [
    "# PLOT MEAN THE LOUDEST HOURS OF ALL NIGHTS\n",
    "all_dB_df = df.copy()\n",
    "\n",
    "# Round all the timestamps to 5-seconds intervals\n",
    "# Sort by timestamp\n",
    "all_dB_df = all_dB_df.sort_values(by=['timestamp'])\n",
    "\n",
    "# Convert the timestamp to datetime\n",
    "all_dB_df['timestamp'] = pd.to_datetime(all_dB_df['timestamp'], unit='ms')\n",
    "all_dB_df['timestamp'] = all_dB_df['timestamp'].dt.round('1min')\n",
    "\n",
    "# Delete the day from the timestamp\n",
    "all_dB_df['timestamp'] = all_dB_df['timestamp'].dt.strftime('%H:%M:%S')\n",
    "all_dB_df = all_dB_df.sort_values(by=['timestamp'])\n",
    "\n",
    "\n",
    "# Get data from 00:00:00 to 08:00:00\n",
    "all_dB_df = all_dB_df[(all_dB_df['timestamp'] >= '00:00:00') & (all_dB_df['timestamp'] <= '08:00:00')]\n",
    "\n",
    "# Group by timestamp and calculate the mean of the dB values on each timestamp\n",
    "mean = all_dB_df.groupby('timestamp')['dB'].mean()\n",
    "\n",
    "# Plot the results\n",
    "plt.figure(figsize=(20, 10))\n",
    "\n",
    "# Plot the mean line\n",
    "plt.plot(mean.index, mean, label='Mean dB', color='red')\n",
    "\n",
    "# Set ticks\n",
    "tick_spacing = max(len(mean.index) // 10, 1)  # Prevent division by zero\n",
    "plt.xticks(range(0, len(mean.index), tick_spacing), mean.index[::tick_spacing], fontsize=10, rotation=45)\n",
    "\n",
    "plt.title(\"Mean of dB level\", fontsize=20)\n",
    "\n",
    "plt.xlabel('Time', fontsize=15)\n",
    "plt.ylabel('dB', fontsize=15)\n",
    "\n",
    "# Add grid\n",
    "plt.grid()\n",
    "\n",
    "plt.legend(fontsize=15)\n",
    "plt.show()\n",
    "\n",
    "# Mean dB value\n",
    "print(f\"Mean heartRate value: {mean.mean()}\")\n"
   ]
  },
  {
   "cell_type": "markdown",
   "metadata": {},
   "source": [
    "#"
   ]
  },
  {
   "cell_type": "markdown",
   "metadata": {},
   "source": [
    "# Plot with bar chart"
   ]
  },
  {
   "cell_type": "markdown",
   "metadata": {},
   "source": [
    "## Plot with the user sleeping"
   ]
  },
  {
   "cell_type": "code",
   "execution_count": null,
   "metadata": {},
   "outputs": [],
   "source": [
    "# PLOT MEAN THE LOUDEST HOURS OF ALL NIGHTS\n",
    "all_dB_df = df.copy()\n",
    "\n",
    "# Convert the timestamp to datetime and extract hour only\n",
    "all_dB_df['timestamp'] = pd.to_datetime(all_dB_df['timestamp'], unit='ms')\n",
    "all_dB_df['hour'] = all_dB_df['timestamp'].dt.strftime('%H:00')\n",
    "\n",
    "# Get data from 00:00:00 to 08:00:00\n",
    "all_dB_df = all_dB_df[(all_dB_df['timestamp'].dt.hour >= 0) & (all_dB_df['timestamp'].dt.hour <= 8)]\n",
    "\n",
    "# Delete uuids without sleepStage\n",
    "all_dB_df = all_dB_df[all_dB_df['sleepStage'] != -1]\n",
    "\n",
    "# Group by hour and calculate mean\n",
    "hourly_mean = all_dB_df.groupby('hour')['dB'].mean()\n",
    "\n",
    "# Create bar plot\n",
    "plt.figure(figsize=(20, 10))\n",
    "\n",
    "plt.bar(range(len(hourly_mean)), hourly_mean.values)\n",
    "\n",
    "# Customize the plot\n",
    "plt.title(\"Average dB Level by Hour with the Users Sleeping\", fontsize=20)\n",
    "plt.xlabel('Hour', fontsize=15)\n",
    "plt.ylabel('Average dB', fontsize=15)\n",
    "\n",
    "# Set x-axis ticks to show hours\n",
    "plt.xticks(range(len(hourly_mean)), hourly_mean.index, rotation=45, fontsize=12)\n",
    "\n",
    "# Add value labels on top of each bar\n",
    "for i, v in enumerate(hourly_mean.values):\n",
    "    plt.text(i, v + 0.5, f'{v:.1f}', ha='center', fontsize=12)\n",
    "    \n",
    "# Y axis start at 25\n",
    "plt.ylim(30, 45)\n",
    "\n",
    "plt.tight_layout()\n",
    "plt.show()\n",
    "\n",
    "# Print overall mean\n",
    "print(f\"Overall mean dB value: {hourly_mean.mean():.2f}\")"
   ]
  },
  {
   "cell_type": "markdown",
   "metadata": {},
   "source": [
    "## Plot with the user sleeping or not"
   ]
  },
  {
   "cell_type": "code",
   "execution_count": null,
   "metadata": {},
   "outputs": [],
   "source": [
    "# PLOT MEAN THE LOUDEST HOURS OF ALL NIGHTS\n",
    "all_dB_df = df.copy()\n",
    "\n",
    "# Convert the timestamp to datetime and extract hour only\n",
    "all_dB_df['timestamp'] = pd.to_datetime(all_dB_df['timestamp'], unit='ms')\n",
    "all_dB_df['hour'] = all_dB_df['timestamp'].dt.strftime('%H:00')\n",
    "\n",
    "# Get data from 00:00:00 to 08:00:00\n",
    "all_dB_df = all_dB_df[(all_dB_df['timestamp'].dt.hour >= 0) & (all_dB_df['timestamp'].dt.hour <= 8)]\n",
    "\n",
    "# Group by hour and calculate mean\n",
    "hourly_mean = all_dB_df.groupby('hour')['dB'].mean()\n",
    "\n",
    "# Create bar plot\n",
    "plt.figure(figsize=(20, 10))\n",
    "\n",
    "plt.bar(range(len(hourly_mean)), hourly_mean.values)\n",
    "\n",
    "# Customize the plot\n",
    "plt.title(\"Average dB Level by Hour\", fontsize=20)\n",
    "plt.xlabel('Hour', fontsize=15)\n",
    "plt.ylabel('Average dB', fontsize=15)\n",
    "\n",
    "# Set x-axis ticks to show hours\n",
    "plt.xticks(range(len(hourly_mean)), hourly_mean.index, rotation=45, fontsize=12)\n",
    "\n",
    "# Add value labels on top of each bar\n",
    "for i, v in enumerate(hourly_mean.values):\n",
    "    plt.text(i, v + 0.5, f'{v:.1f}', ha='center', fontsize=12)\n",
    "    \n",
    "# Y axis start at 25\n",
    "plt.ylim(30, 45)\n",
    "\n",
    "plt.tight_layout()\n",
    "plt.show()\n",
    "\n",
    "# Print overall mean\n",
    "print(f\"Overall mean dB value: {hourly_mean.mean():.2f}\")"
   ]
  },
  {
   "cell_type": "code",
   "execution_count": null,
   "metadata": {},
   "outputs": [],
   "source": []
  }
 ],
 "metadata": {
  "kernelspec": {
   "display_name": "base",
   "language": "python",
   "name": "python3"
  },
  "language_info": {
   "codemirror_mode": {
    "name": "ipython",
    "version": 3
   },
   "file_extension": ".py",
   "mimetype": "text/x-python",
   "name": "python",
   "nbconvert_exporter": "python",
   "pygments_lexer": "ipython3",
   "version": "3.12.2"
  }
 },
 "nbformat": 4,
 "nbformat_minor": 2
}
